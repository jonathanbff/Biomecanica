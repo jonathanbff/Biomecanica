{
  "nbformat": 4,
  "nbformat_minor": 0,
  "metadata": {
    "colab": {
      "provenance": [],
      "include_colab_link": true
    },
    "kernelspec": {
      "name": "python3",
      "display_name": "Python 3"
    },
    "language_info": {
      "name": "python"
    }
  },
  "cells": [
    {
      "cell_type": "markdown",
      "metadata": {
        "id": "view-in-github",
        "colab_type": "text"
      },
      "source": [
        "<a href=\"https://colab.research.google.com/github/jonathanbff/Biomecanica/blob/main/eulerrotation.ipynb\" target=\"_parent\"><img src=\"https://colab.research.google.com/assets/colab-badge.svg\" alt=\"Open In Colab\"/></a>"
      ]
    },
    {
      "cell_type": "markdown",
      "source": [
        "# Trabalho da disciplina de Biomecanica\n",
        "\n",
        "Autores: Jonathan Batista Ferreira\n",
        "Augusto da Gama Oliveira Rosa\n",
        "\n",
        "\n"
      ],
      "metadata": {
        "id": "GGpmpAMSIbin"
      }
    },
    {
      "cell_type": "code",
      "execution_count": null,
      "metadata": {
        "id": "9fnOmoHFBioj"
      },
      "outputs": [],
      "source": [
        "\n",
        "import numpy as np\n",
        "import pandas as pd\n",
        "import matplotlib.pyplot as plt\n",
        "#import c3d\n",
        "import math\n",
        "import os\n",
        "import sys\n",
        "import glob\n",
        "import re\n",
        "\n",
        "#Função para calcular a rotação entre dois planos\n",
        "def calc_rotation(p1, p2):\n",
        "    #Calcula o vetor normal ao plano 1\n",
        "    n1 = np.cross(p1[0], p1[1])\n",
        "    #Calcula o vetor normal ao plano 2\n",
        "    n2 = np.cross(p2[0], p2[1])\n",
        "    #Calcula o vetor normal ao plano 1\n",
        "    n1 = n1 / np.linalg.norm(n1)\n",
        "    #Calcula o vetor normal ao plano 2\n",
        "    n2 = n2 / np.linalg.norm(n2)\n",
        "    #Calcula o vetor normal ao plano 1\n",
        "    n1 = n1 / np.linalg.norm(n1)\n",
        "    #Calcula\n",
        "    v = np.cross(n1, n2)\n",
        "    #Calcula\n",
        "    c = np.dot(n1, n2)\n",
        "    #Calcula\n",
        "    s = np.linalg.norm(v)\n",
        "    #Calcula\n",
        "    k = np.array([[0, -v[2], v[1]], [v[2], 0, -v[0]], [-v[1], v[0], 0]])\n",
        "    #Calcula\n",
        "    R = np.eye(3) + k + np.dot(k, k) * ((1 - c) / (s ** 2))\n",
        "    return R\n",
        "\n",
        "#Função para calcular a rotação entre dois planos\n",
        "def calc_rotation_angle(p1, p2):\n",
        "    #Calcula o vetor normal ao plano 1\n",
        "    n1 = np.cross(p1[0], p1[1])\n",
        "    #Calcula o vetor normal ao plano 2\n",
        "    n2 = np.cross(p2[0], p2[1])\n",
        "    #Calcul\n",
        "    n1 = n1 / np.linalg.norm(n1)\n",
        "    #Calcula\n",
        "    n2 = n2 / np.linalg.norm(n2)\n",
        "    #Calcula\n",
        "    v = np.cross(n1, n2)\n",
        "    #Calcula\n",
        "    c = np.dot(n1, n2)\n",
        "    #Calcula\n",
        "    s = np.linalg.norm(v)\n",
        "    #Calcula\n",
        "    k = np.array([[0, -v[2], v[1]], [v[2], 0, -v[0]], [-v[1], v[0], 0]])\n",
        "    #Calcula\n",
        "    R = np.eye(3) + k + np.dot(k, k) * ((1 - c) / (s ** 2))\n",
        "    #Calcula\n",
        "    angle = math.atan2(s, c)\n",
        "    return angle\n",
        "\n",
        "\n",
        "    "
      ]
    },
    {
      "cell_type": "code",
      "source": [
        "#função para recebeber os dados e os calcular\n",
        "def calc_data(data):\n",
        "    #Calcula a rotação entre os planos\n",
        "    R = calc_rotation(data[0], data[1])\n",
        "    #Calcula a rotação entre os planos\n",
        "    angle = calc_rotation_angle(data[0], data[1])\n",
        "    #Calcula a rotação entre os planos\n",
        "    angle = math.degrees(angle)\n",
        "    #Calcula a rotação entre os planos\n",
        "    angle = round(angle, 2)\n",
        "    #Calcula a rotação entre os planos\n",
        "    return R, angle"
      ],
      "metadata": {
        "id": "cn08afGRC1-n"
      },
      "execution_count": null,
      "outputs": []
    },
    {
      "cell_type": "code",
      "source": [
        "#função para plotar os dados de rotação\n",
        "def plot_data(data, angle):\n",
        "    #Calcula a rotação entre os planos\n",
        "    R, angle = calc_data(data)\n",
        "    #Calcula a rotação entre os planos\n",
        "    print(R)\n",
        "    #Calcula a rotação entre os planos\n",
        "    print(angle)\n",
        "    #Calcula a rotação entre os planos\n",
        "    plt.figure()\n",
        "    #Calcula a rotação entre os planos\n",
        "    plt.plot(data[0][0], data[0][1], 'r')\n",
        "    #Calcula a rotação entre os planos\n",
        "    plt.plot(data[1][0], data[1][1], 'b')\n",
        "    #Calcula a rotação entre os planos\n",
        "    plt.show()\n"
      ],
      "metadata": {
        "id": "unRYpxQ9C4bm"
      },
      "execution_count": null,
      "outputs": []
    },
    {
      "cell_type": "code",
      "source": [
        "def vizualiza(x,y,z, planox, planoy, planoz):\n",
        "    fig = plt.figure()\n",
        "    ax = fig.add_subplot(111, projection='3d')\n",
        "    ax.scatter(x, y, z, c='r', marker='o')\n",
        "    ax.set_xlabel('X')\n",
        "    ax.set_ylabel('Y')\n",
        "    ax.set_zlabel('Z')\n",
        "    ax.set_xlim(planox)\n",
        "    ax.set_ylim(planoy)\n",
        "    ax.set_zlim(planoz)\n",
        "    plt.show()\n",
        "\n",
        "vizualiza(x,y,z, (-10,10), (-10,10), (-10,10))\n",
        "\n",
        "#Crie uma função em python para a visualização de planos cruzados 3D.\n",
        "\n",
        "def vizualiza(x,y,z, planox, planoy, planoz):\n",
        "    fig = plt.figure()\n",
        "    ax = fig.add_subplot(111, projection='3d')\n",
        "    ax.scatter(x, y, z, c='r', marker='o')\n",
        "    ax.set_xlabel('X')\n",
        "    ax.set_ylabel('Y')\n",
        "    ax.set_zlabel('Z')\n",
        "    ax.set_xlim(planox)\n",
        "    ax.set_ylim(planoy)\n",
        "    ax.set_zlim(planoz)\n",
        "    plt.show()\n",
        "\n",
        "vizualiza(x,y,z, (-10,10), (-10,10), (-10,10))"
      ],
      "metadata": {
        "id": "u3P8JI0rDYh0"
      },
      "execution_count": null,
      "outputs": []
    }
  ]
}